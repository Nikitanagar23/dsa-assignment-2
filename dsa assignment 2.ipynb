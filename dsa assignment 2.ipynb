{
 "cells": [
  {
   "cell_type": "code",
   "execution_count": 1,
   "id": "3d3824d1-a47c-4b94-ad68-b44ab9138833",
   "metadata": {
    "tags": []
   },
   "outputs": [],
   "source": [
    "#RECURSION"
   ]
  },
  {
   "cell_type": "code",
   "execution_count": 2,
   "id": "eb6837d7-a54b-4bb3-acad-9919b3003a08",
   "metadata": {
    "tags": []
   },
   "outputs": [],
   "source": [
    "#ASSIGNMENT QUESTION"
   ]
  },
  {
   "cell_type": "code",
   "execution_count": 3,
   "id": "9e73b5aa-317a-4bf7-a6de-1ef1adf72ebf",
   "metadata": {
    "tags": []
   },
   "outputs": [],
   "source": [
    "#QUESTION 1"
   ]
  },
  {
   "cell_type": "code",
   "execution_count": 4,
   "id": "00537eb2-02d9-4b51-92ac-5c6aa5c34aea",
   "metadata": {
    "tags": []
   },
   "outputs": [],
   "source": [
    "#CAN YOU EXPLAIN THE LOGIC AND WORKING OF THE TOWER OF HONOI ALGORITHM BY WRITING A JAVA PROGRAM? HOW DOES THE RECURSION WORK, AND HOW ARE THE MOVEMENTS OF DISKS BETWEEN RODS ACCOMPLISHED?"
   ]
  },
  {
   "cell_type": "code",
   "execution_count": null,
   "id": "f6a51b3d-b563-415c-816b-5dbd8a34cefe",
   "metadata": {},
   "outputs": [],
   "source": [
    "\"\"\"THE TOWER OF HONOI IS A MATHEMATICAL PUZZLE THAT CONSISTS OF THREE RODS AND A NUMBER OF DISKS OF DIFFERENT \n",
    "SIZES, WHICH CAN CAN BE STACKED IN DECREASING SIZES, WHICH CAN BE STACKED IN DECREASING ORDER OF SIZE ON ONE ROD.\n",
    "THE OBJECTIVE OF THE PUZZLES IS TO MOVE THE ENTIRE STACK OF DISKS FROM ONE ROD TO ANOTHER,\n",
    "FOLLOWING THESE RULES:\n",
    "1. only one disk can be moved at a time.\n",
    "2. each move consists of taking the top disk from one of the stacks and placing it on the top of another stack or \n",
    "    on an empty rod.\n",
    "3. no disk may be placed on top of a smaller disk.\n",
    "\n",
    "THE ALGORITHM FOR SOLVING THE TOWER OF HONOI PROBLEM CAN BE IMPLEMENTED USING RECURSION. HERE'S A JAVA PROGRAM \n",
    "THAT DEMONSTRATES THE TOWER OF HANOI ALGORITHM:\n"
   ]
  },
  {
   "cell_type": "code",
   "execution_count": 17,
   "id": "7d0d7dee-8146-4ea2-b70c-a84d60422bde",
   "metadata": {
    "tags": []
   },
   "outputs": [
    {
     "ename": "SyntaxError",
     "evalue": "invalid syntax (780152747.py, line 1)",
     "output_type": "error",
     "traceback": [
      "\u001b[1;36m  Cell \u001b[1;32mIn[17], line 1\u001b[1;36m\u001b[0m\n\u001b[1;33m    public class TowerOfHanoi {\u001b[0m\n\u001b[1;37m           ^\u001b[0m\n\u001b[1;31mSyntaxError\u001b[0m\u001b[1;31m:\u001b[0m invalid syntax\n"
     ]
    }
   ],
   "source": [
    "public class TowerOfHanoi {\n",
    "    public static void moveDisks(int n, char source, char destination, char auxiliary){\n",
    "        if(n==1){\n",
    "            System.out.println(\"Move disk 1 from\" + source + \" to \" + destination);\n",
    "            return;\n",
    "        }\n",
    "        moveDisks(n-1,source,auxiliary,destination);\n",
    "        System.out.println(\"Move disk \"+n+\" from\" +sourece+\"to\"+destination);\n",
    "        moveDisks(n-1,auxiliary,destination,source );\n",
    "    }\n",
    "    public static void main(String[]args){\n",
    "        int numberOfDisks=3;\n",
    "        char sourceRod='A';\n",
    "        char auxiliaryRod = 'B';\n",
    "        char destinationRod='C';\n",
    "        moveDisks(numberOfDisks,sourceRod,destinationRod,auxiliaryRod);\n",
    "    }\n",
    "}"
   ]
  },
  {
   "cell_type": "code",
   "execution_count": null,
   "id": "72753f40-8b6b-4f21-acf8-e397c44e0be2",
   "metadata": {},
   "outputs": [],
   "source": []
  },
  {
   "cell_type": "code",
   "execution_count": null,
   "id": "2e14f472-8250-4248-aa3d-3466de45046c",
   "metadata": {},
   "outputs": [],
   "source": []
  },
  {
   "cell_type": "code",
   "execution_count": 1,
   "id": "cf6cc9bd-ab18-453d-ace4-8672795beb28",
   "metadata": {},
   "outputs": [],
   "source": [
    "#QUESTION 2"
   ]
  },
  {
   "cell_type": "code",
   "execution_count": null,
   "id": "5ec04c05-cfda-4c9b-adb3-a42b74785497",
   "metadata": {},
   "outputs": [],
   "source": [
    "#GIVEN TWO STRING WORD1 AND WORD2, RETURN THE MINIMUM NUMBER OF OPERATIONS REQUIRED TO CONVERT WORD1 TO WORD2."
   ]
  },
  {
   "cell_type": "code",
   "execution_count": 2,
   "id": "679ae830-9ff9-4ec4-a5bf-7f63ad884c84",
   "metadata": {
    "tags": []
   },
   "outputs": [
    {
     "name": "stdout",
     "output_type": "stream",
     "text": [
      "5\n"
     ]
    }
   ],
   "source": [
    "def minDistance(word1,word2):\n",
    "    m=len(word1)\n",
    "    n=len(word2)\n",
    "    dp=[[0]*(n+1) for _ in range(m+1)]\n",
    "    for i in range(m+1):\n",
    "        dp[i][0]=i\n",
    "    for j in range(n+1):\n",
    "        dp[0][j]=j\n",
    "    for i in range(1,m+1):\n",
    "        for j in range(1,n+1):\n",
    "            if word1[i-1]==word2[j-1]:\n",
    "                dp[i][j]=dp[i-1][j-1]\n",
    "            else:\n",
    "                dp[i][j]=1+min(dp[i-1][j],dp[i][j-1],dp[i-1][j-1])\n",
    "    return dp[m][n]\n",
    "word1 = \"intention\"\n",
    "word2 = \"execution\"\n",
    "print(minDistance(word1,word2))\n"
   ]
  },
  {
   "cell_type": "code",
   "execution_count": null,
   "id": "96389907-f0e3-4b45-ac03-87cd9dc968a1",
   "metadata": {},
   "outputs": [],
   "source": []
  },
  {
   "cell_type": "code",
   "execution_count": null,
   "id": "fd2feeef-125d-4af5-9422-402a10762816",
   "metadata": {},
   "outputs": [],
   "source": []
  },
  {
   "cell_type": "code",
   "execution_count": 2,
   "id": "7e75c0ed-d8d7-43c2-821e-e8636ae1cb1b",
   "metadata": {
    "tags": []
   },
   "outputs": [],
   "source": [
    "#QUESTION 3"
   ]
  },
  {
   "cell_type": "code",
   "execution_count": 3,
   "id": "ae433ecb-32cf-44e4-a59c-5277e119d1f0",
   "metadata": {
    "tags": []
   },
   "outputs": [],
   "source": [
    "#PRINT THE MAX VALUE OF THE ARRAY [13,1,-3,22,5]."
   ]
  },
  {
   "cell_type": "code",
   "execution_count": 4,
   "id": "df390be5-6a7f-4136-9461-ab9e3086139e",
   "metadata": {
    "tags": []
   },
   "outputs": [
    {
     "name": "stdout",
     "output_type": "stream",
     "text": [
      "22\n"
     ]
    }
   ],
   "source": [
    "array = [13,1,-3,22,5]\n",
    "max_value=max(array)\n",
    "print(max_value)"
   ]
  },
  {
   "cell_type": "code",
   "execution_count": null,
   "id": "10166916-fe0a-4d3b-9fe0-f57f601bb2f8",
   "metadata": {},
   "outputs": [],
   "source": []
  },
  {
   "cell_type": "code",
   "execution_count": null,
   "id": "69fd0687-af0e-40c2-961e-46fd29e0affa",
   "metadata": {},
   "outputs": [],
   "source": []
  },
  {
   "cell_type": "code",
   "execution_count": 4,
   "id": "407aa3b1-b3c5-4f9b-b4b6-adde16e11f54",
   "metadata": {
    "tags": []
   },
   "outputs": [],
   "source": [
    "#QUESTION 4"
   ]
  },
  {
   "cell_type": "code",
   "execution_count": 5,
   "id": "2b35b76b-7d0f-490b-b272-f16b44ed9ac7",
   "metadata": {
    "tags": []
   },
   "outputs": [],
   "source": [
    "#FIND THE SUM OF THE VALUES OF THE ARRAY [92,23,15,-20,10]."
   ]
  },
  {
   "cell_type": "code",
   "execution_count": 5,
   "id": "496bd29b-414a-41bd-8d0e-c81d0a3b54cb",
   "metadata": {
    "tags": []
   },
   "outputs": [
    {
     "name": "stdout",
     "output_type": "stream",
     "text": [
      "120\n"
     ]
    }
   ],
   "source": [
    "array=[92,23,15,-20,10]\n",
    "sum_of_values=sum(array)\n",
    "print(sum_of_values)"
   ]
  },
  {
   "cell_type": "code",
   "execution_count": null,
   "id": "a0c9c382-3ee0-419f-b219-463f77ea3316",
   "metadata": {},
   "outputs": [],
   "source": []
  },
  {
   "cell_type": "code",
   "execution_count": null,
   "id": "d405cf6c-6a56-4e5c-8a90-93edd768826d",
   "metadata": {},
   "outputs": [],
   "source": []
  },
  {
   "cell_type": "code",
   "execution_count": 6,
   "id": "687baec5-9505-4697-8367-03254b4589d8",
   "metadata": {
    "tags": []
   },
   "outputs": [],
   "source": [
    "#QUESTION 5"
   ]
  },
  {
   "cell_type": "code",
   "execution_count": null,
   "id": "42d8ecd4-5a67-4dfd-8861-c73b8170708f",
   "metadata": {},
   "outputs": [],
   "source": [
    "#GIVEN A NUMBER N. PRINT IF IT IS AN ARMSTRONG NUMBER OR NOT. AN ARMSTRONG NUMBER IS A NUMBER IF THE SUM OF EVERY DIGIT IN THAT NUMBER RAISED TO THE POWER OF TOTAL DIGITS IN THAT NUMBER IS EQUAL TO THE NUMBER."
   ]
  },
  {
   "cell_type": "code",
   "execution_count": 6,
   "id": "4150a8b6-0e2a-4ccb-b909-97ea090c62da",
   "metadata": {
    "tags": []
   },
   "outputs": [
    {
     "name": "stdout",
     "output_type": "stream",
     "text": [
      "Yes\n"
     ]
    }
   ],
   "source": [
    "def is_armstrong_number(n):\n",
    "    num_str=str(n)\n",
    "    total_digits=len(num_str)\n",
    "    sum_of_digits=0\n",
    "    for digit in num_str:\n",
    "        sum_of_digits+=int(digit)**total_digits\n",
    "    if sum_of_digits==n:\n",
    "        return\"Yes\"\n",
    "    else:\n",
    "        return\"No\"\n",
    "number=153\n",
    "result=is_armstrong_number(number)\n",
    "print(result)"
   ]
  },
  {
   "cell_type": "code",
   "execution_count": null,
   "id": "1d7c6344-c340-4fd0-9757-8a29d9f8170c",
   "metadata": {},
   "outputs": [],
   "source": []
  }
 ],
 "metadata": {
  "kernelspec": {
   "display_name": "Python 3 (ipykernel)",
   "language": "python",
   "name": "python3"
  },
  "language_info": {
   "codemirror_mode": {
    "name": "ipython",
    "version": 3
   },
   "file_extension": ".py",
   "mimetype": "text/x-python",
   "name": "python",
   "nbconvert_exporter": "python",
   "pygments_lexer": "ipython3",
   "version": "3.11.4"
  }
 },
 "nbformat": 4,
 "nbformat_minor": 5
}
